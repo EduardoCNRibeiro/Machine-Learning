{
  "nbformat": 4,
  "nbformat_minor": 0,
  "metadata": {
    "colab": {
      "name": "analise_pressao_atmosferica.ipynb",
      "provenance": [],
      "collapsed_sections": [],
      "include_colab_link": true
    },
    "kernelspec": {
      "name": "python3",
      "display_name": "Python 3"
    }
  },
  "cells": [
    {
      "cell_type": "markdown",
      "metadata": {
        "id": "view-in-github",
        "colab_type": "text"
      },
      "source": [
        "<a href=\"https://colab.research.google.com/github/EduardoCNRibeiro/Machine-Learning/blob/master/analise_pressao_atmosferica.ipynb\" target=\"_parent\"><img src=\"https://colab.research.google.com/assets/colab-badge.svg\" alt=\"Open In Colab\"/></a>"
      ]
    },
    {
      "cell_type": "code",
      "metadata": {
        "id": "mhsXcP1UE9Q6",
        "colab_type": "code",
        "outputId": "09eff3b8-120d-4d4f-80b4-7685e4841377",
        "colab": {
          "base_uri": "https://localhost:8080/",
          "height": 54
        }
      },
      "source": [
        "#importando as bibliotecas\n",
        "import pandas as pd \n",
        "import numpy as np\n",
        "from matplotlib import pyplot as plt\n",
        "import seaborn as sns\n",
        "import datetime"
      ],
      "execution_count": 1,
      "outputs": [
        {
          "output_type": "stream",
          "text": [
            "/usr/local/lib/python3.6/dist-packages/statsmodels/tools/_testing.py:19: FutureWarning: pandas.util.testing is deprecated. Use the functions in the public API at pandas.testing instead.\n",
            "  import pandas.util.testing as tm\n"
          ],
          "name": "stderr"
        }
      ]
    },
    {
      "cell_type": "code",
      "metadata": {
        "id": "DQnY4YHvFNUR",
        "colab_type": "code",
        "outputId": "12e0f36f-fbfa-4a94-e13d-81f732b6fbec",
        "colab": {
          "resources": {
            "http://localhost:8080/nbextensions/google.colab/files.js": {
              "data": "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",
              "ok": true,
              "headers": [
                [
                  "content-type",
                  "application/javascript"
                ]
              ],
              "status": 200,
              "status_text": "OK"
            }
          },
          "base_uri": "https://localhost:8080/",
          "height": 77
        }
      },
      "source": [
        "#importando o nosso dataset\n",
        "from google.colab import files\n",
        "uploaded = files.upload()"
      ],
      "execution_count": 2,
      "outputs": [
        {
          "output_type": "display_data",
          "data": {
            "text/html": [
              "\n",
              "     <input type=\"file\" id=\"files-2bc544a5-23c2-42b6-b945-6dfbcd4ad10d\" name=\"files[]\" multiple disabled />\n",
              "     <output id=\"result-2bc544a5-23c2-42b6-b945-6dfbcd4ad10d\">\n",
              "      Upload widget is only available when the cell has been executed in the\n",
              "      current browser session. Please rerun this cell to enable.\n",
              "      </output>\n",
              "      <script src=\"/nbextensions/google.colab/files.js\"></script> "
            ],
            "text/plain": [
              "<IPython.core.display.HTML object>"
            ]
          },
          "metadata": {
            "tags": []
          }
        },
        {
          "output_type": "stream",
          "text": [
            "Saving PRSA_data_2010.1.1-2014.12.31.csv to PRSA_data_2010.1.1-2014.12.31.csv\n"
          ],
          "name": "stdout"
        }
      ]
    },
    {
      "cell_type": "code",
      "metadata": {
        "id": "P3VxiwjCQFre",
        "colab_type": "code",
        "colab": {}
      },
      "source": [
        "#lendo o dataset para o formato de dataframe\n",
        "df_poluicao_beijing=pd.read_csv(\"PRSA_data_2010.1.1-2014.12.31.csv\")"
      ],
      "execution_count": 0,
      "outputs": []
    },
    {
      "cell_type": "code",
      "metadata": {
        "id": "7LMCttsvRSl6",
        "colab_type": "code",
        "outputId": "d211c7e3-97a4-4fc7-c03e-e3a9f412f3a2",
        "colab": {
          "base_uri": "https://localhost:8080/",
          "height": 206
        }
      },
      "source": [
        "#conhecendo o dataset\n",
        "df_poluicao_beijing.head()"
      ],
      "execution_count": 4,
      "outputs": [
        {
          "output_type": "execute_result",
          "data": {
            "text/html": [
              "<div>\n",
              "<style scoped>\n",
              "    .dataframe tbody tr th:only-of-type {\n",
              "        vertical-align: middle;\n",
              "    }\n",
              "\n",
              "    .dataframe tbody tr th {\n",
              "        vertical-align: top;\n",
              "    }\n",
              "\n",
              "    .dataframe thead th {\n",
              "        text-align: right;\n",
              "    }\n",
              "</style>\n",
              "<table border=\"1\" class=\"dataframe\">\n",
              "  <thead>\n",
              "    <tr style=\"text-align: right;\">\n",
              "      <th></th>\n",
              "      <th>No</th>\n",
              "      <th>year</th>\n",
              "      <th>month</th>\n",
              "      <th>day</th>\n",
              "      <th>hour</th>\n",
              "      <th>pm2.5</th>\n",
              "      <th>DEWP</th>\n",
              "      <th>TEMP</th>\n",
              "      <th>PRES</th>\n",
              "      <th>cbwd</th>\n",
              "      <th>Iws</th>\n",
              "      <th>Is</th>\n",
              "      <th>Ir</th>\n",
              "    </tr>\n",
              "  </thead>\n",
              "  <tbody>\n",
              "    <tr>\n",
              "      <th>0</th>\n",
              "      <td>1</td>\n",
              "      <td>2010</td>\n",
              "      <td>1</td>\n",
              "      <td>1</td>\n",
              "      <td>0</td>\n",
              "      <td>NaN</td>\n",
              "      <td>-21</td>\n",
              "      <td>-11.0</td>\n",
              "      <td>1021.0</td>\n",
              "      <td>NW</td>\n",
              "      <td>1.79</td>\n",
              "      <td>0</td>\n",
              "      <td>0</td>\n",
              "    </tr>\n",
              "    <tr>\n",
              "      <th>1</th>\n",
              "      <td>2</td>\n",
              "      <td>2010</td>\n",
              "      <td>1</td>\n",
              "      <td>1</td>\n",
              "      <td>1</td>\n",
              "      <td>NaN</td>\n",
              "      <td>-21</td>\n",
              "      <td>-12.0</td>\n",
              "      <td>1020.0</td>\n",
              "      <td>NW</td>\n",
              "      <td>4.92</td>\n",
              "      <td>0</td>\n",
              "      <td>0</td>\n",
              "    </tr>\n",
              "    <tr>\n",
              "      <th>2</th>\n",
              "      <td>3</td>\n",
              "      <td>2010</td>\n",
              "      <td>1</td>\n",
              "      <td>1</td>\n",
              "      <td>2</td>\n",
              "      <td>NaN</td>\n",
              "      <td>-21</td>\n",
              "      <td>-11.0</td>\n",
              "      <td>1019.0</td>\n",
              "      <td>NW</td>\n",
              "      <td>6.71</td>\n",
              "      <td>0</td>\n",
              "      <td>0</td>\n",
              "    </tr>\n",
              "    <tr>\n",
              "      <th>3</th>\n",
              "      <td>4</td>\n",
              "      <td>2010</td>\n",
              "      <td>1</td>\n",
              "      <td>1</td>\n",
              "      <td>3</td>\n",
              "      <td>NaN</td>\n",
              "      <td>-21</td>\n",
              "      <td>-14.0</td>\n",
              "      <td>1019.0</td>\n",
              "      <td>NW</td>\n",
              "      <td>9.84</td>\n",
              "      <td>0</td>\n",
              "      <td>0</td>\n",
              "    </tr>\n",
              "    <tr>\n",
              "      <th>4</th>\n",
              "      <td>5</td>\n",
              "      <td>2010</td>\n",
              "      <td>1</td>\n",
              "      <td>1</td>\n",
              "      <td>4</td>\n",
              "      <td>NaN</td>\n",
              "      <td>-20</td>\n",
              "      <td>-12.0</td>\n",
              "      <td>1018.0</td>\n",
              "      <td>NW</td>\n",
              "      <td>12.97</td>\n",
              "      <td>0</td>\n",
              "      <td>0</td>\n",
              "    </tr>\n",
              "  </tbody>\n",
              "</table>\n",
              "</div>"
            ],
            "text/plain": [
              "   No  year  month  day  hour  pm2.5  DEWP  TEMP    PRES cbwd    Iws  Is  Ir\n",
              "0   1  2010      1    1     0    NaN   -21 -11.0  1021.0   NW   1.79   0   0\n",
              "1   2  2010      1    1     1    NaN   -21 -12.0  1020.0   NW   4.92   0   0\n",
              "2   3  2010      1    1     2    NaN   -21 -11.0  1019.0   NW   6.71   0   0\n",
              "3   4  2010      1    1     3    NaN   -21 -14.0  1019.0   NW   9.84   0   0\n",
              "4   5  2010      1    1     4    NaN   -20 -12.0  1018.0   NW  12.97   0   0"
            ]
          },
          "metadata": {
            "tags": []
          },
          "execution_count": 4
        }
      ]
    },
    {
      "cell_type": "code",
      "metadata": {
        "id": "Is8RfeICRnhO",
        "colab_type": "code",
        "outputId": "5f7473c2-ea4c-41aa-bf96-06610dff29d2",
        "colab": {
          "base_uri": "https://localhost:8080/",
          "height": 35
        }
      },
      "source": [
        "#verificando o shape do dataset\n",
        "df_poluicao_beijing.shape"
      ],
      "execution_count": 5,
      "outputs": [
        {
          "output_type": "execute_result",
          "data": {
            "text/plain": [
              "(43824, 13)"
            ]
          },
          "metadata": {
            "tags": []
          },
          "execution_count": 5
        }
      ]
    },
    {
      "cell_type": "code",
      "metadata": {
        "id": "ptvRICxlRuEX",
        "colab_type": "code",
        "outputId": "52372fdf-84ef-4b56-9a6d-d66451a3f95a",
        "colab": {
          "base_uri": "https://localhost:8080/",
          "height": 384
        }
      },
      "source": [
        "#verificando o formato do dataset\n",
        "df_poluicao_beijing.info()"
      ],
      "execution_count": 6,
      "outputs": [
        {
          "output_type": "stream",
          "text": [
            "<class 'pandas.core.frame.DataFrame'>\n",
            "RangeIndex: 43824 entries, 0 to 43823\n",
            "Data columns (total 13 columns):\n",
            " #   Column  Non-Null Count  Dtype  \n",
            "---  ------  --------------  -----  \n",
            " 0   No      43824 non-null  int64  \n",
            " 1   year    43824 non-null  int64  \n",
            " 2   month   43824 non-null  int64  \n",
            " 3   day     43824 non-null  int64  \n",
            " 4   hour    43824 non-null  int64  \n",
            " 5   pm2.5   41757 non-null  float64\n",
            " 6   DEWP    43824 non-null  int64  \n",
            " 7   TEMP    43824 non-null  float64\n",
            " 8   PRES    43824 non-null  float64\n",
            " 9   cbwd    43824 non-null  object \n",
            " 10  Iws     43824 non-null  float64\n",
            " 11  Is      43824 non-null  int64  \n",
            " 12  Ir      43824 non-null  int64  \n",
            "dtypes: float64(4), int64(8), object(1)\n",
            "memory usage: 4.3+ MB\n"
          ],
          "name": "stdout"
        }
      ]
    },
    {
      "cell_type": "code",
      "metadata": {
        "id": "XfCHmYepRYC2",
        "colab_type": "code",
        "outputId": "f7af4a66-2585-4114-9ee9-210f62a104a8",
        "colab": {
          "base_uri": "https://localhost:8080/",
          "height": 274
        }
      },
      "source": [
        "#contando valores nulos \n",
        "df_poluicao_beijing.isnull().sum()"
      ],
      "execution_count": 7,
      "outputs": [
        {
          "output_type": "execute_result",
          "data": {
            "text/plain": [
              "No          0\n",
              "year        0\n",
              "month       0\n",
              "day         0\n",
              "hour        0\n",
              "pm2.5    2067\n",
              "DEWP        0\n",
              "TEMP        0\n",
              "PRES        0\n",
              "cbwd        0\n",
              "Iws         0\n",
              "Is          0\n",
              "Ir          0\n",
              "dtype: int64"
            ]
          },
          "metadata": {
            "tags": []
          },
          "execution_count": 7
        }
      ]
    },
    {
      "cell_type": "code",
      "metadata": {
        "id": "Nohfv463R3ym",
        "colab_type": "code",
        "colab": {}
      },
      "source": [
        "#obtendo os dados em formato de datetime\n",
        "df_poluicao_beijing['datetime']=df_poluicao_beijing[['year', 'month', 'day', 'hour']].apply(lambda row: datetime.datetime(year=row['year'],month=row['month'], day=row['day'],hour=row['hour']), axis=1)"
      ],
      "execution_count": 0,
      "outputs": []
    },
    {
      "cell_type": "code",
      "metadata": {
        "id": "iBPvit5FR34A",
        "colab_type": "code",
        "outputId": "c9de0876-a5f3-460c-96f3-d6ae6e78488f",
        "colab": {
          "base_uri": "https://localhost:8080/",
          "height": 206
        }
      },
      "source": [
        "#mostrando a modificação\n",
        "df_poluicao_beijing.head()"
      ],
      "execution_count": 9,
      "outputs": [
        {
          "output_type": "execute_result",
          "data": {
            "text/html": [
              "<div>\n",
              "<style scoped>\n",
              "    .dataframe tbody tr th:only-of-type {\n",
              "        vertical-align: middle;\n",
              "    }\n",
              "\n",
              "    .dataframe tbody tr th {\n",
              "        vertical-align: top;\n",
              "    }\n",
              "\n",
              "    .dataframe thead th {\n",
              "        text-align: right;\n",
              "    }\n",
              "</style>\n",
              "<table border=\"1\" class=\"dataframe\">\n",
              "  <thead>\n",
              "    <tr style=\"text-align: right;\">\n",
              "      <th></th>\n",
              "      <th>No</th>\n",
              "      <th>year</th>\n",
              "      <th>month</th>\n",
              "      <th>day</th>\n",
              "      <th>hour</th>\n",
              "      <th>pm2.5</th>\n",
              "      <th>DEWP</th>\n",
              "      <th>TEMP</th>\n",
              "      <th>PRES</th>\n",
              "      <th>cbwd</th>\n",
              "      <th>Iws</th>\n",
              "      <th>Is</th>\n",
              "      <th>Ir</th>\n",
              "      <th>datetime</th>\n",
              "    </tr>\n",
              "  </thead>\n",
              "  <tbody>\n",
              "    <tr>\n",
              "      <th>0</th>\n",
              "      <td>1</td>\n",
              "      <td>2010</td>\n",
              "      <td>1</td>\n",
              "      <td>1</td>\n",
              "      <td>0</td>\n",
              "      <td>NaN</td>\n",
              "      <td>-21</td>\n",
              "      <td>-11.0</td>\n",
              "      <td>1021.0</td>\n",
              "      <td>NW</td>\n",
              "      <td>1.79</td>\n",
              "      <td>0</td>\n",
              "      <td>0</td>\n",
              "      <td>2010-01-01 00:00:00</td>\n",
              "    </tr>\n",
              "    <tr>\n",
              "      <th>1</th>\n",
              "      <td>2</td>\n",
              "      <td>2010</td>\n",
              "      <td>1</td>\n",
              "      <td>1</td>\n",
              "      <td>1</td>\n",
              "      <td>NaN</td>\n",
              "      <td>-21</td>\n",
              "      <td>-12.0</td>\n",
              "      <td>1020.0</td>\n",
              "      <td>NW</td>\n",
              "      <td>4.92</td>\n",
              "      <td>0</td>\n",
              "      <td>0</td>\n",
              "      <td>2010-01-01 01:00:00</td>\n",
              "    </tr>\n",
              "    <tr>\n",
              "      <th>2</th>\n",
              "      <td>3</td>\n",
              "      <td>2010</td>\n",
              "      <td>1</td>\n",
              "      <td>1</td>\n",
              "      <td>2</td>\n",
              "      <td>NaN</td>\n",
              "      <td>-21</td>\n",
              "      <td>-11.0</td>\n",
              "      <td>1019.0</td>\n",
              "      <td>NW</td>\n",
              "      <td>6.71</td>\n",
              "      <td>0</td>\n",
              "      <td>0</td>\n",
              "      <td>2010-01-01 02:00:00</td>\n",
              "    </tr>\n",
              "    <tr>\n",
              "      <th>3</th>\n",
              "      <td>4</td>\n",
              "      <td>2010</td>\n",
              "      <td>1</td>\n",
              "      <td>1</td>\n",
              "      <td>3</td>\n",
              "      <td>NaN</td>\n",
              "      <td>-21</td>\n",
              "      <td>-14.0</td>\n",
              "      <td>1019.0</td>\n",
              "      <td>NW</td>\n",
              "      <td>9.84</td>\n",
              "      <td>0</td>\n",
              "      <td>0</td>\n",
              "      <td>2010-01-01 03:00:00</td>\n",
              "    </tr>\n",
              "    <tr>\n",
              "      <th>4</th>\n",
              "      <td>5</td>\n",
              "      <td>2010</td>\n",
              "      <td>1</td>\n",
              "      <td>1</td>\n",
              "      <td>4</td>\n",
              "      <td>NaN</td>\n",
              "      <td>-20</td>\n",
              "      <td>-12.0</td>\n",
              "      <td>1018.0</td>\n",
              "      <td>NW</td>\n",
              "      <td>12.97</td>\n",
              "      <td>0</td>\n",
              "      <td>0</td>\n",
              "      <td>2010-01-01 04:00:00</td>\n",
              "    </tr>\n",
              "  </tbody>\n",
              "</table>\n",
              "</div>"
            ],
            "text/plain": [
              "   No  year  month  day  hour  ...  cbwd    Iws  Is  Ir            datetime\n",
              "0   1  2010      1    1     0  ...    NW   1.79   0   0 2010-01-01 00:00:00\n",
              "1   2  2010      1    1     1  ...    NW   4.92   0   0 2010-01-01 01:00:00\n",
              "2   3  2010      1    1     2  ...    NW   6.71   0   0 2010-01-01 02:00:00\n",
              "3   4  2010      1    1     3  ...    NW   9.84   0   0 2010-01-01 03:00:00\n",
              "4   5  2010      1    1     4  ...    NW  12.97   0   0 2010-01-01 04:00:00\n",
              "\n",
              "[5 rows x 14 columns]"
            ]
          },
          "metadata": {
            "tags": []
          },
          "execution_count": 9
        }
      ]
    },
    {
      "cell_type": "code",
      "metadata": {
        "id": "hWWwnfEMXZQU",
        "colab_type": "code",
        "outputId": "750f1748-b080-402a-a4d8-f48766fe7f2a",
        "colab": {
          "base_uri": "https://localhost:8080/",
          "height": 54
        }
      },
      "source": [
        "#encontrando as datas máximas e mínimas do dataset\n",
        "print('Data inicial de coleta',df_poluicao_beijing['datetime'].min())\n",
        "print('Data final de coleta',df_poluicao_beijing['datetime'].max())"
      ],
      "execution_count": 10,
      "outputs": [
        {
          "output_type": "stream",
          "text": [
            "Data inicial de coleta 2010-01-01 00:00:00\n",
            "Data final de coleta 2014-12-31 23:00:00\n"
          ],
          "name": "stdout"
        }
      ]
    },
    {
      "cell_type": "code",
      "metadata": {
        "id": "1tKi0os6R369",
        "colab_type": "code",
        "outputId": "35e68884-e698-491a-d85d-0080789b42b2",
        "colab": {
          "base_uri": "https://localhost:8080/",
          "height": 206
        }
      },
      "source": [
        "df_pressao_atmosferica=df_poluicao_beijing[['datetime','PRES']] #pressão em hPa\n",
        "df_pressao_atmosferica.head()"
      ],
      "execution_count": 11,
      "outputs": [
        {
          "output_type": "execute_result",
          "data": {
            "text/html": [
              "<div>\n",
              "<style scoped>\n",
              "    .dataframe tbody tr th:only-of-type {\n",
              "        vertical-align: middle;\n",
              "    }\n",
              "\n",
              "    .dataframe tbody tr th {\n",
              "        vertical-align: top;\n",
              "    }\n",
              "\n",
              "    .dataframe thead th {\n",
              "        text-align: right;\n",
              "    }\n",
              "</style>\n",
              "<table border=\"1\" class=\"dataframe\">\n",
              "  <thead>\n",
              "    <tr style=\"text-align: right;\">\n",
              "      <th></th>\n",
              "      <th>datetime</th>\n",
              "      <th>PRES</th>\n",
              "    </tr>\n",
              "  </thead>\n",
              "  <tbody>\n",
              "    <tr>\n",
              "      <th>0</th>\n",
              "      <td>2010-01-01 00:00:00</td>\n",
              "      <td>1021.0</td>\n",
              "    </tr>\n",
              "    <tr>\n",
              "      <th>1</th>\n",
              "      <td>2010-01-01 01:00:00</td>\n",
              "      <td>1020.0</td>\n",
              "    </tr>\n",
              "    <tr>\n",
              "      <th>2</th>\n",
              "      <td>2010-01-01 02:00:00</td>\n",
              "      <td>1019.0</td>\n",
              "    </tr>\n",
              "    <tr>\n",
              "      <th>3</th>\n",
              "      <td>2010-01-01 03:00:00</td>\n",
              "      <td>1019.0</td>\n",
              "    </tr>\n",
              "    <tr>\n",
              "      <th>4</th>\n",
              "      <td>2010-01-01 04:00:00</td>\n",
              "      <td>1018.0</td>\n",
              "    </tr>\n",
              "  </tbody>\n",
              "</table>\n",
              "</div>"
            ],
            "text/plain": [
              "             datetime    PRES\n",
              "0 2010-01-01 00:00:00  1021.0\n",
              "1 2010-01-01 01:00:00  1020.0\n",
              "2 2010-01-01 02:00:00  1019.0\n",
              "3 2010-01-01 03:00:00  1019.0\n",
              "4 2010-01-01 04:00:00  1018.0"
            ]
          },
          "metadata": {
            "tags": []
          },
          "execution_count": 11
        }
      ]
    },
    {
      "cell_type": "code",
      "metadata": {
        "id": "3w1L3pGPR39t",
        "colab_type": "code",
        "outputId": "8cfef0b0-5c6f-4069-cb0b-f87483566e58",
        "colab": {
          "base_uri": "https://localhost:8080/",
          "height": 109
        }
      },
      "source": [
        "df_pressao_atmosferica.sort_values('datetime', ascending=True, inplace=True) #ordenando os valores pela data"
      ],
      "execution_count": 12,
      "outputs": [
        {
          "output_type": "stream",
          "text": [
            "/usr/local/lib/python3.6/dist-packages/ipykernel_launcher.py:1: SettingWithCopyWarning: \n",
            "A value is trying to be set on a copy of a slice from a DataFrame\n",
            "\n",
            "See the caveats in the documentation: https://pandas.pydata.org/pandas-docs/stable/user_guide/indexing.html#returning-a-view-versus-a-copy\n",
            "  \"\"\"Entry point for launching an IPython kernel.\n"
          ],
          "name": "stderr"
        }
      ]
    },
    {
      "cell_type": "code",
      "metadata": {
        "id": "pegB0tSoTsT5",
        "colab_type": "code",
        "outputId": "dc071f6e-dd40-4714-8f8a-928c81c108a0",
        "colab": {
          "base_uri": "https://localhost:8080/",
          "height": 206
        }
      },
      "source": [
        "df_pressao_atmosferica.head()"
      ],
      "execution_count": 13,
      "outputs": [
        {
          "output_type": "execute_result",
          "data": {
            "text/html": [
              "<div>\n",
              "<style scoped>\n",
              "    .dataframe tbody tr th:only-of-type {\n",
              "        vertical-align: middle;\n",
              "    }\n",
              "\n",
              "    .dataframe tbody tr th {\n",
              "        vertical-align: top;\n",
              "    }\n",
              "\n",
              "    .dataframe thead th {\n",
              "        text-align: right;\n",
              "    }\n",
              "</style>\n",
              "<table border=\"1\" class=\"dataframe\">\n",
              "  <thead>\n",
              "    <tr style=\"text-align: right;\">\n",
              "      <th></th>\n",
              "      <th>datetime</th>\n",
              "      <th>PRES</th>\n",
              "    </tr>\n",
              "  </thead>\n",
              "  <tbody>\n",
              "    <tr>\n",
              "      <th>0</th>\n",
              "      <td>2010-01-01 00:00:00</td>\n",
              "      <td>1021.0</td>\n",
              "    </tr>\n",
              "    <tr>\n",
              "      <th>1</th>\n",
              "      <td>2010-01-01 01:00:00</td>\n",
              "      <td>1020.0</td>\n",
              "    </tr>\n",
              "    <tr>\n",
              "      <th>2</th>\n",
              "      <td>2010-01-01 02:00:00</td>\n",
              "      <td>1019.0</td>\n",
              "    </tr>\n",
              "    <tr>\n",
              "      <th>3</th>\n",
              "      <td>2010-01-01 03:00:00</td>\n",
              "      <td>1019.0</td>\n",
              "    </tr>\n",
              "    <tr>\n",
              "      <th>4</th>\n",
              "      <td>2010-01-01 04:00:00</td>\n",
              "      <td>1018.0</td>\n",
              "    </tr>\n",
              "  </tbody>\n",
              "</table>\n",
              "</div>"
            ],
            "text/plain": [
              "             datetime    PRES\n",
              "0 2010-01-01 00:00:00  1021.0\n",
              "1 2010-01-01 01:00:00  1020.0\n",
              "2 2010-01-01 02:00:00  1019.0\n",
              "3 2010-01-01 03:00:00  1019.0\n",
              "4 2010-01-01 04:00:00  1018.0"
            ]
          },
          "metadata": {
            "tags": []
          },
          "execution_count": 13
        }
      ]
    },
    {
      "cell_type": "code",
      "metadata": {
        "id": "Ov-qfholTsWV",
        "colab_type": "code",
        "outputId": "2b7a9430-e754-418b-c1ef-68ed2e7d968f",
        "colab": {
          "base_uri": "https://localhost:8080/",
          "height": 476
        }
      },
      "source": [
        "#verificando possíveis outlier com o boxplot\n",
        "plt.figure(figsize=(7, 7))\n",
        "g = sns.boxplot(df_pressao_atmosferica['PRES'])\n",
        "g.set_title('Box plot para a Pressão Atmosférica')"
      ],
      "execution_count": 14,
      "outputs": [
        {
          "output_type": "execute_result",
          "data": {
            "text/plain": [
              "Text(0.5, 1.0, 'Box plot para a Pressão Atmosférica')"
            ]
          },
          "metadata": {
            "tags": []
          },
          "execution_count": 14
        },
        {
          "output_type": "display_data",
          "data": {
            "image/png": "[encoded data removed]",
            "text/plain": [
              "<Figure size 504x504 with 1 Axes>"
            ]
          },
          "metadata": {
            "tags": [],
            "needs_background": "light"
          }
        }
      ]
    },
    {
      "cell_type": "code",
      "metadata": {
        "id": "QBCURfaCUspW",
        "colab_type": "code",
        "outputId": "4e1ca030-edd7-4f51-e27a-bc181e327307",
        "colab": {
          "base_uri": "https://localhost:8080/",
          "height": 476
        }
      },
      "source": [
        "#plotando os valores de pressão atmosférica\n",
        "plt.figure(figsize=(7, 7))\n",
        "g = sns.lineplot(x=df_pressao_atmosferica.index,y=df_pressao_atmosferica['PRES'])\n",
        "g.set_title('Serie temporal para a pressão atmosférica')\n",
        "g.set_xlabel('Indice do dataset')\n",
        "g.set_ylabel('Pressão Atmosférica em hPa')"
      ],
      "execution_count": 15,
      "outputs": [
        {
          "output_type": "execute_result",
          "data": {
            "text/plain": [
              "Text(0, 0.5, 'Pressão Atmosférica em hPa')"
            ]
          },
          "metadata": {
            "tags": []
          },
          "execution_count": 15
        },
        {
          "output_type": "display_data",
          "data": {
            "image/png": "[encoded data removed]",
            "text/plain": [
              "<Figure size 504x504 with 1 Axes>"
            ]
          },
          "metadata": {
            "tags": [],
            "needs_background": "light"
          }
        }
      ]
    },
    {
      "cell_type": "markdown",
      "metadata": {
        "id": "2QxUB4v8WjL1",
        "colab_type": "text"
      },
      "source": [
        "**Preparando os dados para serem utilizados no modelo de previsão via MLP**"
      ]
    },
    {
      "cell_type": "code",
      "metadata": {
        "id": "oB6EYNDuTsZC",
        "colab_type": "code",
        "outputId": "9d95b5c2-972d-4c92-8c2e-e70969d24d43",
        "colab": {
          "base_uri": "https://localhost:8080/",
          "height": 127
        }
      },
      "source": [
        "from sklearn.preprocessing import MinMaxScaler  #aplicando a normalização dos dados\n",
        "scaler = MinMaxScaler(feature_range=(0, 1))  #define o intervalor entre 0 e 1 para os dados serem normalizados\n",
        "df_pressao_atmosferica['PRES_normalizado'] = scaler.fit_transform(np.array(df_pressao_atmosferica['PRES']).reshape(-1, 1))"
      ],
      "execution_count": 16,
      "outputs": [
        {
          "output_type": "stream",
          "text": [
            "/usr/local/lib/python3.6/dist-packages/ipykernel_launcher.py:3: SettingWithCopyWarning: \n",
            "A value is trying to be set on a copy of a slice from a DataFrame.\n",
            "Try using .loc[row_indexer,col_indexer] = value instead\n",
            "\n",
            "See the caveats in the documentation: https://pandas.pydata.org/pandas-docs/stable/user_guide/indexing.html#returning-a-view-versus-a-copy\n",
            "  This is separate from the ipykernel package so we can avoid doing imports until\n"
          ],
          "name": "stderr"
        }
      ]
    },
    {
      "cell_type": "code",
      "metadata": {
        "id": "rT62XBIYTsb2",
        "colab_type": "code",
        "outputId": "6817b9f0-f552-48bb-f457-a460532af959",
        "colab": {
          "base_uri": "https://localhost:8080/",
          "height": 206
        }
      },
      "source": [
        "df_pressao_atmosferica.head()"
      ],
      "execution_count": 17,
      "outputs": [
        {
          "output_type": "execute_result",
          "data": {
            "text/html": [
              "<div>\n",
              "<style scoped>\n",
              "    .dataframe tbody tr th:only-of-type {\n",
              "        vertical-align: middle;\n",
              "    }\n",
              "\n",
              "    .dataframe tbody tr th {\n",
              "        vertical-align: top;\n",
              "    }\n",
              "\n",
              "    .dataframe thead th {\n",
              "        text-align: right;\n",
              "    }\n",
              "</style>\n",
              "<table border=\"1\" class=\"dataframe\">\n",
              "  <thead>\n",
              "    <tr style=\"text-align: right;\">\n",
              "      <th></th>\n",
              "      <th>datetime</th>\n",
              "      <th>PRES</th>\n",
              "      <th>PRES_normalizado</th>\n",
              "    </tr>\n",
              "  </thead>\n",
              "  <tbody>\n",
              "    <tr>\n",
              "      <th>0</th>\n",
              "      <td>2010-01-01 00:00:00</td>\n",
              "      <td>1021.0</td>\n",
              "      <td>0.545455</td>\n",
              "    </tr>\n",
              "    <tr>\n",
              "      <th>1</th>\n",
              "      <td>2010-01-01 01:00:00</td>\n",
              "      <td>1020.0</td>\n",
              "      <td>0.527273</td>\n",
              "    </tr>\n",
              "    <tr>\n",
              "      <th>2</th>\n",
              "      <td>2010-01-01 02:00:00</td>\n",
              "      <td>1019.0</td>\n",
              "      <td>0.509091</td>\n",
              "    </tr>\n",
              "    <tr>\n",
              "      <th>3</th>\n",
              "      <td>2010-01-01 03:00:00</td>\n",
              "      <td>1019.0</td>\n",
              "      <td>0.509091</td>\n",
              "    </tr>\n",
              "    <tr>\n",
              "      <th>4</th>\n",
              "      <td>2010-01-01 04:00:00</td>\n",
              "      <td>1018.0</td>\n",
              "      <td>0.490909</td>\n",
              "    </tr>\n",
              "  </tbody>\n",
              "</table>\n",
              "</div>"
            ],
            "text/plain": [
              "             datetime    PRES  PRES_normalizado\n",
              "0 2010-01-01 00:00:00  1021.0          0.545455\n",
              "1 2010-01-01 01:00:00  1020.0          0.527273\n",
              "2 2010-01-01 02:00:00  1019.0          0.509091\n",
              "3 2010-01-01 03:00:00  1019.0          0.509091\n",
              "4 2010-01-01 04:00:00  1018.0          0.490909"
            ]
          },
          "metadata": {
            "tags": []
          },
          "execution_count": 17
        }
      ]
    },
    {
      "cell_type": "code",
      "metadata": {
        "id": "412CqUEfWpsJ",
        "colab_type": "code",
        "outputId": "3dc999e9-8e09-41bc-b306-cebffd08851b",
        "colab": {
          "base_uri": "https://localhost:8080/",
          "height": 54
        }
      },
      "source": [
        "#dividindo os dados entre treinamento e teste\n",
        "data_de_corte = datetime.datetime(year=2014, month=1, day=1, hour=0)  #difine a data de corte para 01/01/2014\n",
        "df_treinamento = df_pressao_atmosferica.loc[df_pressao_atmosferica['datetime']<data_de_corte]\n",
        "df_teste = df_pressao_atmosferica.loc[df_pressao_atmosferica['datetime']>=data_de_corte]\n",
        "print('Quantidade de dados para treinamento:', df_treinamento.shape)\n",
        "print('Quantidade de dados para teste:', df_teste.shape)"
      ],
      "execution_count": 18,
      "outputs": [
        {
          "output_type": "stream",
          "text": [
            "Quantidade de dados para treinamento: (35064, 3)\n",
            "Quantidade de dados para teste: (8760, 3)\n"
          ],
          "name": "stdout"
        }
      ]
    },
    {
      "cell_type": "code",
      "metadata": {
        "id": "ftvZ2PEnX65T",
        "colab_type": "code",
        "outputId": "62dc0ee7-bfc5-47a8-a62d-2f99230172d2",
        "colab": {
          "base_uri": "https://localhost:8080/",
          "height": 476
        }
      },
      "source": [
        "#verificando \"a cara\" dos dados de treinamento \n",
        "plt.figure(figsize=(7, 7))\n",
        "g = sns.lineplot(x=df_treinamento.index,y=df_treinamento['PRES_normalizado'], color='b')\n",
        "g.set_title('Série Temporal para a pressão normalizada no treinamento do modelo')\n",
        "g.set_xlabel('Indices')\n",
        "g.set_ylabel('Leituras normalizadas')"
      ],
      "execution_count": 19,
      "outputs": [
        {
          "output_type": "execute_result",
          "data": {
            "text/plain": [
              "Text(0, 0.5, 'Leituras normalizadas')"
            ]
          },
          "metadata": {
            "tags": []
          },
          "execution_count": 19
        },
        {
          "output_type": "display_data",
          "data": {
            "image/png": "[encoded data removed]",
            "text/plain": [
              "<Figure size 504x504 with 1 Axes>"
            ]
          },
          "metadata": {
            "tags": [],
            "needs_background": "light"
          }
        }
      ]
    },
    {
      "cell_type": "code",
      "metadata": {
        "id": "rXrfMOeSYnde",
        "colab_type": "code",
        "outputId": "085ab730-ba82-43b1-c5fe-58b12cf6179e",
        "colab": {
          "base_uri": "https://localhost:8080/",
          "height": 476
        }
      },
      "source": [
        "#verificando \"a cara\" dos dados de teste\n",
        "plt.figure(figsize=(7, 7))\n",
        "g = sns.lineplot(x=df_teste.index,y=df_teste['PRES_normalizado'], color='r')\n",
        "g.set_title('Série Temporal para a pressão normalizada no teste do modelo')\n",
        "g.set_xlabel('Indices')\n",
        "g.set_ylabel('Leituras normalizadas')"
      ],
      "execution_count": 20,
      "outputs": [
        {
          "output_type": "execute_result",
          "data": {
            "text/plain": [
              "Text(0, 0.5, 'Leituras normalizadas')"
            ]
          },
          "metadata": {
            "tags": []
          },
          "execution_count": 20
        },
        {
          "output_type": "display_data",
          "data": {
            "image/png": "[encoded data removed]",
            "text/plain": [
              "<Figure size 504x504 with 1 Axes>"
            ]
          },
          "metadata": {
            "tags": [],
            "needs_background": "light"
          }
        }
      ]
    },
    {
      "cell_type": "code",
      "metadata": {
        "id": "Jvv94VyXYxlu",
        "colab_type": "code",
        "colab": {}
      },
      "source": [
        "#definindo o número de valores a serem utilizados para a previsão \n",
        "def formata_entrada_saida(serie_temporal_original, numero_de_passos):\n",
        "    \n",
        "    X = []\n",
        "    y = []\n",
        "    for i in range(numero_de_passos, serie_temporal_original.shape[0]):\n",
        "        X.append(list(serie_temporal_original.loc[i-numero_de_passos:i-1]))\n",
        "        y.append(serie_temporal_original.loc[i])\n",
        "    X, y = np.array(X), np.array(y)\n",
        "    return X, y"
      ],
      "execution_count": 0,
      "outputs": []
    },
    {
      "cell_type": "code",
      "metadata": {
        "id": "1dxrTEQJZ5CK",
        "colab_type": "code",
        "outputId": "bbbddd1d-f583-4f0e-d6b9-b88c384ae1f5",
        "colab": {
          "base_uri": "https://localhost:8080/",
          "height": 35
        }
      },
      "source": [
        "#formata os dados para o treinamento do modelo\n",
        "X_train, y_train = formata_entrada_saida(df_treinamento['PRES_normalizado'], 10)\n",
        "print('Formato dos dados:', X_train.shape, y_train.shape)"
      ],
      "execution_count": 22,
      "outputs": [
        {
          "output_type": "stream",
          "text": [
            "Formato dos dados: (35054, 10) (35054,)\n"
          ],
          "name": "stdout"
        }
      ]
    },
    {
      "cell_type": "code",
      "metadata": {
        "id": "1w_BzWTIYnw-",
        "colab_type": "code",
        "outputId": "03c54089-304a-41b0-8d72-d7968bfca130",
        "colab": {
          "base_uri": "https://localhost:8080/",
          "height": 531
        }
      },
      "source": [
        "X_train[1:15,:]"
      ],
      "execution_count": 23,
      "outputs": [
        {
          "output_type": "execute_result",
          "data": {
            "text/plain": [
              "array([[0.52727273, 0.50909091, 0.50909091, 0.49090909, 0.47272727,\n",
              "        0.47272727, 0.47272727, 0.47272727, 0.47272727, 0.47272727],\n",
              "       [0.50909091, 0.50909091, 0.49090909, 0.47272727, 0.47272727,\n",
              "        0.47272727, 0.47272727, 0.47272727, 0.47272727, 0.47272727],\n",
              "       [0.50909091, 0.49090909, 0.47272727, 0.47272727, 0.47272727,\n",
              "        0.47272727, 0.47272727, 0.47272727, 0.47272727, 0.43636364],\n",
              "       [0.49090909, 0.47272727, 0.47272727, 0.47272727, 0.47272727,\n",
              "        0.47272727, 0.47272727, 0.47272727, 0.43636364, 0.43636364],\n",
              "       [0.47272727, 0.47272727, 0.47272727, 0.47272727, 0.47272727,\n",
              "        0.47272727, 0.47272727, 0.43636364, 0.43636364, 0.41818182],\n",
              "       [0.47272727, 0.47272727, 0.47272727, 0.47272727, 0.47272727,\n",
              "        0.47272727, 0.43636364, 0.43636364, 0.41818182, 0.41818182],\n",
              "       [0.47272727, 0.47272727, 0.47272727, 0.47272727, 0.47272727,\n",
              "        0.43636364, 0.43636364, 0.41818182, 0.41818182, 0.43636364],\n",
              "       [0.47272727, 0.47272727, 0.47272727, 0.47272727, 0.43636364,\n",
              "        0.43636364, 0.41818182, 0.41818182, 0.43636364, 0.43636364],\n",
              "       [0.47272727, 0.47272727, 0.47272727, 0.43636364, 0.43636364,\n",
              "        0.41818182, 0.41818182, 0.43636364, 0.43636364, 0.45454545],\n",
              "       [0.47272727, 0.47272727, 0.43636364, 0.43636364, 0.41818182,\n",
              "        0.41818182, 0.43636364, 0.43636364, 0.45454545, 0.47272727],\n",
              "       [0.47272727, 0.43636364, 0.43636364, 0.41818182, 0.41818182,\n",
              "        0.43636364, 0.43636364, 0.45454545, 0.47272727, 0.47272727],\n",
              "       [0.43636364, 0.43636364, 0.41818182, 0.41818182, 0.43636364,\n",
              "        0.43636364, 0.45454545, 0.47272727, 0.47272727, 0.49090909],\n",
              "       [0.43636364, 0.41818182, 0.41818182, 0.43636364, 0.43636364,\n",
              "        0.45454545, 0.47272727, 0.47272727, 0.49090909, 0.49090909],\n",
              "       [0.41818182, 0.41818182, 0.43636364, 0.43636364, 0.45454545,\n",
              "        0.47272727, 0.47272727, 0.49090909, 0.49090909, 0.52727273]])"
            ]
          },
          "metadata": {
            "tags": []
          },
          "execution_count": 23
        }
      ]
    },
    {
      "cell_type": "code",
      "metadata": {
        "id": "bpECxjIEd1xZ",
        "colab_type": "code",
        "outputId": "8158382b-da51-4e95-821e-01527fd0ef4a",
        "colab": {
          "base_uri": "https://localhost:8080/",
          "height": 35
        }
      },
      "source": [
        "X_teste, y_teste = formata_entrada_saida(df_teste['PRES_normalizado'].reset_index(drop=True),10)\n",
        "print('Formato dos dados de normalizacao:', X_teste.shape, y_teste.shape)"
      ],
      "execution_count": 24,
      "outputs": [
        {
          "output_type": "stream",
          "text": [
            "Formato dos dados de normalizacao: (8750, 10) (8750,)\n"
          ],
          "name": "stdout"
        }
      ]
    },
    {
      "cell_type": "code",
      "metadata": {
        "id": "UHZBQaZ-iQlb",
        "colab_type": "code",
        "outputId": "02b23de7-8088-49e9-fdc5-d7651f45d6e0",
        "colab": {
          "base_uri": "https://localhost:8080/",
          "height": 531
        }
      },
      "source": [
        "X_teste[1:15,:]"
      ],
      "execution_count": 25,
      "outputs": [
        {
          "output_type": "execute_result",
          "data": {
            "text/plain": [
              "array([[0.4       , 0.4       , 0.4       , 0.38181818, 0.38181818,\n",
              "        0.38181818, 0.4       , 0.4       , 0.41818182, 0.43636364],\n",
              "       [0.4       , 0.4       , 0.38181818, 0.38181818, 0.38181818,\n",
              "        0.4       , 0.4       , 0.41818182, 0.43636364, 0.43636364],\n",
              "       [0.4       , 0.38181818, 0.38181818, 0.38181818, 0.4       ,\n",
              "        0.4       , 0.41818182, 0.43636364, 0.43636364, 0.43636364],\n",
              "       [0.38181818, 0.38181818, 0.38181818, 0.4       , 0.4       ,\n",
              "        0.41818182, 0.43636364, 0.43636364, 0.43636364, 0.41818182],\n",
              "       [0.38181818, 0.38181818, 0.4       , 0.4       , 0.41818182,\n",
              "        0.43636364, 0.43636364, 0.43636364, 0.41818182, 0.41818182],\n",
              "       [0.38181818, 0.4       , 0.4       , 0.41818182, 0.43636364,\n",
              "        0.43636364, 0.43636364, 0.41818182, 0.41818182, 0.41818182],\n",
              "       [0.4       , 0.4       , 0.41818182, 0.43636364, 0.43636364,\n",
              "        0.43636364, 0.41818182, 0.41818182, 0.41818182, 0.41818182],\n",
              "       [0.4       , 0.41818182, 0.43636364, 0.43636364, 0.43636364,\n",
              "        0.41818182, 0.41818182, 0.41818182, 0.41818182, 0.43636364],\n",
              "       [0.41818182, 0.43636364, 0.43636364, 0.43636364, 0.41818182,\n",
              "        0.41818182, 0.41818182, 0.41818182, 0.43636364, 0.43636364],\n",
              "       [0.43636364, 0.43636364, 0.43636364, 0.41818182, 0.41818182,\n",
              "        0.41818182, 0.41818182, 0.43636364, 0.43636364, 0.45454545],\n",
              "       [0.43636364, 0.43636364, 0.41818182, 0.41818182, 0.41818182,\n",
              "        0.41818182, 0.43636364, 0.43636364, 0.45454545, 0.47272727],\n",
              "       [0.43636364, 0.41818182, 0.41818182, 0.41818182, 0.41818182,\n",
              "        0.43636364, 0.43636364, 0.45454545, 0.47272727, 0.47272727],\n",
              "       [0.41818182, 0.41818182, 0.41818182, 0.41818182, 0.43636364,\n",
              "        0.43636364, 0.45454545, 0.47272727, 0.47272727, 0.49090909],\n",
              "       [0.41818182, 0.41818182, 0.41818182, 0.43636364, 0.43636364,\n",
              "        0.45454545, 0.47272727, 0.47272727, 0.49090909, 0.50909091]])"
            ]
          },
          "metadata": {
            "tags": []
          },
          "execution_count": 25
        }
      ]
    },
    {
      "cell_type": "markdown",
      "metadata": {
        "id": "qfwyr7MUavDQ",
        "colab_type": "text"
      },
      "source": [
        "**Inicia o processo de construção da Previsão via MLP**"
      ]
    },
    {
      "cell_type": "code",
      "metadata": {
        "id": "XcLifC-yaktD",
        "colab_type": "code",
        "colab": {}
      },
      "source": [
        "#importando as bibliotecas \n",
        "import tensorflow as tf\n",
        "from tensorflow.keras.layers import Dense, Input, Dropout  #define os tipos de camadas a serem utilizadas pelo modelo\n",
        "from tensorflow.keras.optimizers import SGD  #define o modelo de otimização via gradiente descendente"
      ],
      "execution_count": 0,
      "outputs": []
    },
    {
      "cell_type": "code",
      "metadata": {
        "id": "lVThdkNBbrS5",
        "colab_type": "code",
        "colab": {}
      },
      "source": [
        "#define a camada de entrada\n",
        "camada_entrada = Input(shape=(10,), dtype='float32')"
      ],
      "execution_count": 0,
      "outputs": []
    },
    {
      "cell_type": "code",
      "metadata": {
        "id": "bf4abzhCb0zu",
        "colab_type": "code",
        "colab": {}
      },
      "source": [
        "#adiciona as camadas escondidas\n",
        "densa1 = Dense(32, activation='linear')(camada_entrada)\n",
        "densa2 = Dense(16, activation='linear')(densa1)\n",
        "densa3 = Dense(16, activation='linear')(densa2)"
      ],
      "execution_count": 0,
      "outputs": []
    },
    {
      "cell_type": "code",
      "metadata": {
        "id": "D4H9XOJGcFY3",
        "colab_type": "code",
        "colab": {}
      },
      "source": [
        "#adiciona a camada de dropout como forma de regularização do modelo (ajuda a evitar overfitting)\n",
        "camada_dropout = Dropout(0.2)(densa3)"
      ],
      "execution_count": 0,
      "outputs": []
    },
    {
      "cell_type": "code",
      "metadata": {
        "id": "fQL75x9ochxw",
        "colab_type": "code",
        "colab": {}
      },
      "source": [
        "#camada de saída da rede (1 dimensão, pois queremos prever a pressão atmosférica baseada em valores anteriores)\n",
        "camada_de_saida = Dense(1, activation='linear')(camada_dropout)"
      ],
      "execution_count": 0,
      "outputs": []
    },
    {
      "cell_type": "code",
      "metadata": {
        "id": "TFboiq55ch2r",
        "colab_type": "code",
        "colab": {}
      },
      "source": [
        "#definindo o modelo MLP\n",
        "modelo_MLP = tf.keras.Model(inputs=camada_entrada, outputs=camada_de_saida)"
      ],
      "execution_count": 0,
      "outputs": []
    },
    {
      "cell_type": "code",
      "metadata": {
        "id": "ikC257KXdFMr",
        "colab_type": "code",
        "outputId": "912efba3-6074-4bb2-fe87-bd87a20faef9",
        "colab": {
          "base_uri": "https://localhost:8080/",
          "height": 384
        }
      },
      "source": [
        "#mostrando as características do modelo \n",
        "modelo_MLP.summary()"
      ],
      "execution_count": 32,
      "outputs": [
        {
          "output_type": "stream",
          "text": [
            "Model: \"model\"\n",
            "_________________________________________________________________\n",
            "Layer (type)                 Output Shape              Param #   \n",
            "=================================================================\n",
            "input_1 (InputLayer)         [(None, 10)]              0         \n",
            "_________________________________________________________________\n",
            "dense (Dense)                (None, 32)                352       \n",
            "_________________________________________________________________\n",
            "dense_1 (Dense)              (None, 16)                528       \n",
            "_________________________________________________________________\n",
            "dense_2 (Dense)              (None, 16)                272       \n",
            "_________________________________________________________________\n",
            "dropout (Dropout)            (None, 16)                0         \n",
            "_________________________________________________________________\n",
            "dense_3 (Dense)              (None, 1)                 17        \n",
            "=================================================================\n",
            "Total params: 1,169\n",
            "Trainable params: 1,169\n",
            "Non-trainable params: 0\n",
            "_________________________________________________________________\n"
          ],
          "name": "stdout"
        }
      ]
    },
    {
      "cell_type": "code",
      "metadata": {
        "id": "XP98XnrYch73",
        "colab_type": "code",
        "colab": {}
      },
      "source": [
        "#definindo a função de erro e o otimizador a ser utilizado\n",
        "modelo_MLP.compile(loss='mean_squared_error', optimizer='adam')  #função perda MSE e otimizador de Adam"
      ],
      "execution_count": 0,
      "outputs": []
    },
    {
      "cell_type": "code",
      "metadata": {
        "id": "EoSwfwKndZzX",
        "colab_type": "code",
        "outputId": "624703fd-b554-43d2-e728-adef91f89f21",
        "colab": {
          "base_uri": "https://localhost:8080/",
          "height": 770
        }
      },
      "source": [
        "#treina o modelo\n",
        "modelo_MLP.fit(x=X_train, y=y_train, batch_size=16, epochs=20,verbose=1, shuffle=True)"
      ],
      "execution_count": 34,
      "outputs": [
        {
          "output_type": "stream",
          "text": [
            "Epoch 1/20\n",
            "2191/2191 [==============================] - 3s 1ms/step - loss: 0.0033\n",
            "Epoch 2/20\n",
            "2191/2191 [==============================] - 3s 1ms/step - loss: 9.6400e-04\n",
            "Epoch 3/20\n",
            "2191/2191 [==============================] - 3s 1ms/step - loss: 8.2847e-04\n",
            "Epoch 4/20\n",
            "2191/2191 [==============================] - 3s 1ms/step - loss: 8.0989e-04\n",
            "Epoch 5/20\n",
            "2191/2191 [==============================] - 3s 1ms/step - loss: 7.8924e-04\n",
            "Epoch 6/20\n",
            "2191/2191 [==============================] - 3s 1ms/step - loss: 7.6773e-04\n",
            "Epoch 7/20\n",
            "2191/2191 [==============================] - 3s 1ms/step - loss: 7.8447e-04\n",
            "Epoch 8/20\n",
            "2191/2191 [==============================] - 3s 1ms/step - loss: 7.5286e-04\n",
            "Epoch 9/20\n",
            "2191/2191 [==============================] - 3s 1ms/step - loss: 7.5200e-04\n",
            "Epoch 10/20\n",
            "2191/2191 [==============================] - 3s 1ms/step - loss: 7.7340e-04\n",
            "Epoch 11/20\n",
            "2191/2191 [==============================] - 3s 1ms/step - loss: 7.5443e-04\n",
            "Epoch 12/20\n",
            "2191/2191 [==============================] - 3s 1ms/step - loss: 7.5580e-04\n",
            "Epoch 13/20\n",
            "2191/2191 [==============================] - 3s 1ms/step - loss: 7.5154e-04\n",
            "Epoch 14/20\n",
            "2191/2191 [==============================] - 3s 1ms/step - loss: 7.6410e-04\n",
            "Epoch 15/20\n",
            "2191/2191 [==============================] - 3s 1ms/step - loss: 7.5729e-04\n",
            "Epoch 16/20\n",
            "2191/2191 [==============================] - 3s 1ms/step - loss: 7.5303e-04\n",
            "Epoch 17/20\n",
            "2191/2191 [==============================] - 3s 1ms/step - loss: 7.4815e-04\n",
            "Epoch 18/20\n",
            "2191/2191 [==============================] - 3s 1ms/step - loss: 7.5985e-04\n",
            "Epoch 19/20\n",
            "2191/2191 [==============================] - 3s 1ms/step - loss: 7.4269e-04\n",
            "Epoch 20/20\n",
            "2191/2191 [==============================] - 3s 1ms/step - loss: 7.4931e-04\n"
          ],
          "name": "stdout"
        },
        {
          "output_type": "execute_result",
          "data": {
            "text/plain": [
              "<tensorflow.python.keras.callbacks.History at 0x7f77e01aef60>"
            ]
          },
          "metadata": {
            "tags": []
          },
          "execution_count": 34
        }
      ]
    },
    {
      "cell_type": "code",
      "metadata": {
        "id": "PpyeH0EygW9N",
        "colab_type": "code",
        "outputId": "a7991dd0-dc0c-4bf0-8f53-891ea34282bf",
        "colab": {
          "base_uri": "https://localhost:8080/",
          "height": 35
        }
      },
      "source": [
        "#realiza a previsão com o modelo MLP\n",
        "previsao = modelo_MLP.predict(X_teste)\n",
        "previsao_PRES = scaler.inverse_transform(previsao)  #aplica o inverso da transformação\n",
        "previsao_PRES.shape"
      ],
      "execution_count": 35,
      "outputs": [
        {
          "output_type": "execute_result",
          "data": {
            "text/plain": [
              "(8750, 1)"
            ]
          },
          "metadata": {
            "tags": []
          },
          "execution_count": 35
        }
      ]
    },
    {
      "cell_type": "code",
      "metadata": {
        "id": "5_EIorxIg6M1",
        "colab_type": "code",
        "outputId": "d77bd72c-b293-43e3-ab5c-b2223027d748",
        "colab": {
          "base_uri": "https://localhost:8080/",
          "height": 35
        }
      },
      "source": [
        "previsao_PRES = np.squeeze(previsao_PRES)  #remove entradas de uma dimensão\n",
        "previsao_PRES.shape"
      ],
      "execution_count": 36,
      "outputs": [
        {
          "output_type": "execute_result",
          "data": {
            "text/plain": [
              "(8750,)"
            ]
          },
          "metadata": {
            "tags": []
          },
          "execution_count": 36
        }
      ]
    },
    {
      "cell_type": "code",
      "metadata": {
        "id": "_8NWXCbziiV2",
        "colab_type": "code",
        "colab": {}
      },
      "source": [
        "from sklearn.metrics import r2_score  #importa o coeficiente de determinação"
      ],
      "execution_count": 0,
      "outputs": []
    },
    {
      "cell_type": "code",
      "metadata": {
        "id": "OYJmvvRaim_U",
        "colab_type": "code",
        "outputId": "30a76e66-5c38-481f-ea02-a62ff6aaac6f",
        "colab": {
          "base_uri": "https://localhost:8080/",
          "height": 35
        }
      },
      "source": [
        "r2 = r2_score(df_teste['PRES'].iloc[10:], previsao_PRES)\n",
        "print('Coeficiente de Determinação Para o Teste (MLP):', round(r2,4))"
      ],
      "execution_count": 38,
      "outputs": [
        {
          "output_type": "stream",
          "text": [
            "Coeficiente de Determinação Para o Teste (MLP): 0.9928\n"
          ],
          "name": "stdout"
        }
      ]
    },
    {
      "cell_type": "code",
      "metadata": {
        "id": "DH40BgtAjykj",
        "colab_type": "code",
        "outputId": "b9cd58f5-32e8-4fbf-9697-a983a2208136",
        "colab": {
          "base_uri": "https://localhost:8080/",
          "height": 476
        }
      },
      "source": [
        "#plotando os valores reais x previstos\n",
        "plt.figure(figsize=(7,7))\n",
        "plt.plot(range(50), df_teste['PRES'].iloc[10:60], linestyle='-', marker='*', color='r')\n",
        "plt.plot(range(50), previsao_PRES[:50], linestyle='-', marker='.', color='b')\n",
        "plt.legend(['Real','Previsto'], loc=2)\n",
        "plt.title('Valor de Pressão Atmosferica Medido vs Valor de Pressão Atmosférica Previsto (MLP)')\n",
        "plt.ylabel('Pressão Atmosférica')\n",
        "plt.xlabel('Indice')"
      ],
      "execution_count": 39,
      "outputs": [
        {
          "output_type": "execute_result",
          "data": {
            "text/plain": [
              "Text(0.5, 0, 'Indice')"
            ]
          },
          "metadata": {
            "tags": []
          },
          "execution_count": 39
        },
        {
          "output_type": "display_data",
          "data": {
            "image/png": "[encoded data removed]",
            "text/plain": [
              "<Figure size 504x504 with 1 Axes>"
            ]
          },
          "metadata": {
            "tags": [],
            "needs_background": "light"
          }
        }
      ]
    },
    {
      "cell_type": "markdown",
      "metadata": {
        "id": "XuCIi3JolMnB",
        "colab_type": "text"
      },
      "source": [
        "**Inciando o processo de previsão via CNN**"
      ]
    },
    {
      "cell_type": "code",
      "metadata": {
        "id": "HgHePl7LlMDY",
        "colab_type": "code",
        "colab": {}
      },
      "source": [
        "from tensorflow.keras.layers import Flatten  #camada flatten para transformar os dados em uma dimensão \n",
        "from tensorflow.keras.layers import ZeroPadding1D  #completa os dados após a convolução\n",
        "from tensorflow.keras.layers import Conv1D  #camada de convolução\n",
        "from tensorflow.keras.layers import AveragePooling1D  #camada de redução (média dos dados encontrados)"
      ],
      "execution_count": 0,
      "outputs": []
    },
    {
      "cell_type": "code",
      "metadata": {
        "id": "9JZRxVofz156",
        "colab_type": "code",
        "colab": {}
      },
      "source": [
        "#define a camada de entrada \n",
        "camada_entrada = Input(shape=(10,1), dtype='float32')"
      ],
      "execution_count": 0,
      "outputs": []
    },
    {
      "cell_type": "code",
      "metadata": {
        "id": "YQc7hAGKz7mS",
        "colab_type": "code",
        "colab": {}
      },
      "source": [
        "#adiciona a camada de padding\n",
        "camada_padding = ZeroPadding1D(padding=1)(camada_entrada)  #matém a quantidade de dados"
      ],
      "execution_count": 0,
      "outputs": []
    },
    {
      "cell_type": "code",
      "metadata": {
        "id": "n5lxWaKp0W_t",
        "colab_type": "code",
        "colab": {}
      },
      "source": [
        "#adiona a camada de convolução \n",
        "camada_convolucao_1D = Conv1D(64, 3, strides=1, use_bias=True)(camada_padding) #adiciona 64 filtros com uma janela de convolução=3"
      ],
      "execution_count": 0,
      "outputs": []
    },
    {
      "cell_type": "code",
      "metadata": {
        "id": "1fr8tFWQ0XCm",
        "colab_type": "code",
        "colab": {}
      },
      "source": [
        "#camada de pooling\n",
        "camada_pooling = AveragePooling1D(pool_size=3, strides=1)(camada_convolucao_1D)  #reduz através do valor médio encontrado para a convolução (pode ser também o valor máximo)"
      ],
      "execution_count": 0,
      "outputs": []
    },
    {
      "cell_type": "code",
      "metadata": {
        "id": "mnlG39yA0XF1",
        "colab_type": "code",
        "colab": {}
      },
      "source": [
        "#camada flatten\n",
        "camada_flatten = Flatten()(camada_pooling) #utilizada para realizar o \"reshape\" dos dados para um vetor "
      ],
      "execution_count": 0,
      "outputs": []
    },
    {
      "cell_type": "code",
      "metadata": {
        "id": "fCuENT8z3DnG",
        "colab_type": "code",
        "colab": {}
      },
      "source": [
        "#adicionando a camada de dropout\n",
        "camada_dropout_cnn = Dropout(0.2)(camada_flatten)"
      ],
      "execution_count": 0,
      "outputs": []
    },
    {
      "cell_type": "code",
      "metadata": {
        "id": "3RCF46nv3JTk",
        "colab_type": "code",
        "colab": {}
      },
      "source": [
        "#camada de saída\n",
        "camada_saida = Dense(1, activation='linear')(camada_dropout_cnn)"
      ],
      "execution_count": 0,
      "outputs": []
    },
    {
      "cell_type": "code",
      "metadata": {
        "id": "JLDCroYa0XLV",
        "colab_type": "code",
        "colab": {}
      },
      "source": [
        "#contruindo o modelo\n",
        "modelo_CNN = tf.keras.Model(inputs=camada_entrada, outputs=camada_saida)"
      ],
      "execution_count": 0,
      "outputs": []
    },
    {
      "cell_type": "code",
      "metadata": {
        "id": "Z7u_n6Xi1iN4",
        "colab_type": "code",
        "outputId": "78ce40c8-6a87-4fb8-f912-369d59bd4ab4",
        "colab": {
          "base_uri": "https://localhost:8080/",
          "height": 421
        }
      },
      "source": [
        "#mostrando o modelo\n",
        "modelo_CNN.summary()"
      ],
      "execution_count": 49,
      "outputs": [
        {
          "output_type": "stream",
          "text": [
            "Model: \"model_1\"\n",
            "_________________________________________________________________\n",
            "Layer (type)                 Output Shape              Param #   \n",
            "=================================================================\n",
            "input_2 (InputLayer)         [(None, 10, 1)]           0         \n",
            "_________________________________________________________________\n",
            "zero_padding1d (ZeroPadding1 (None, 12, 1)             0         \n",
            "_________________________________________________________________\n",
            "conv1d (Conv1D)              (None, 10, 64)            256       \n",
            "_________________________________________________________________\n",
            "average_pooling1d (AveragePo (None, 8, 64)             0         \n",
            "_________________________________________________________________\n",
            "flatten (Flatten)            (None, 512)               0         \n",
            "_________________________________________________________________\n",
            "dropout_1 (Dropout)          (None, 512)               0         \n",
            "_________________________________________________________________\n",
            "dense_4 (Dense)              (None, 1)                 513       \n",
            "=================================================================\n",
            "Total params: 769\n",
            "Trainable params: 769\n",
            "Non-trainable params: 0\n",
            "_________________________________________________________________\n"
          ],
          "name": "stdout"
        }
      ]
    },
    {
      "cell_type": "code",
      "metadata": {
        "id": "b8ow0iAl1otl",
        "colab_type": "code",
        "colab": {}
      },
      "source": [
        "#adionando a função perda e o otimizados\n",
        "modelo_CNN.compile(loss='mean_absolute_error', optimizer='adam')"
      ],
      "execution_count": 0,
      "outputs": []
    },
    {
      "cell_type": "code",
      "metadata": {
        "id": "3SBl72XK3x6m",
        "colab_type": "code",
        "outputId": "fddcbb78-2213-4e6c-d024-6ab97c1a0997",
        "colab": {
          "base_uri": "https://localhost:8080/",
          "height": 35
        }
      },
      "source": [
        "#Transforma os dados de treinamento e teste para o 3D, pois a rede CNN exige essa transformação\n",
        "X_train, X_teste = X_train.reshape((X_train.shape[0], X_train.shape[1], 1)),X_teste.reshape((X_teste.shape[0], X_teste.shape[1], 1))\n",
        "print('Formatos para o treinamento e teste:', X_train.shape, X_teste.shape)"
      ],
      "execution_count": 51,
      "outputs": [
        {
          "output_type": "stream",
          "text": [
            "Formatos para o treinamento e teste: (35054, 10, 1) (8750, 10, 1)\n"
          ],
          "name": "stdout"
        }
      ]
    },
    {
      "cell_type": "code",
      "metadata": {
        "id": "TOi-Oe-I1wyW",
        "colab_type": "code",
        "outputId": "9183da25-2532-45b8-dfbf-94857debd0b1",
        "colab": {
          "base_uri": "https://localhost:8080/",
          "height": 770
        }
      },
      "source": [
        "#realizando o treinamento do modelo\n",
        "modelo_CNN.fit(x=X_train, y=y_train, batch_size=16, epochs=20,verbose=1,shuffle=True)"
      ],
      "execution_count": 52,
      "outputs": [
        {
          "output_type": "stream",
          "text": [
            "Epoch 1/20\n",
            "2191/2191 [==============================] - 3s 1ms/step - loss: 0.0275\n",
            "Epoch 2/20\n",
            "2191/2191 [==============================] - 3s 1ms/step - loss: 0.0179\n",
            "Epoch 3/20\n",
            "2191/2191 [==============================] - 3s 1ms/step - loss: 0.0153\n",
            "Epoch 4/20\n",
            "2191/2191 [==============================] - 3s 1ms/step - loss: 0.0147\n",
            "Epoch 5/20\n",
            "2191/2191 [==============================] - 3s 1ms/step - loss: 0.0140\n",
            "Epoch 6/20\n",
            "2191/2191 [==============================] - 3s 1ms/step - loss: 0.0138\n",
            "Epoch 7/20\n",
            "2191/2191 [==============================] - 3s 1ms/step - loss: 0.0138\n",
            "Epoch 8/20\n",
            "2191/2191 [==============================] - 3s 1ms/step - loss: 0.0136\n",
            "Epoch 9/20\n",
            "2191/2191 [==============================] - 3s 1ms/step - loss: 0.0135\n",
            "Epoch 10/20\n",
            "2191/2191 [==============================] - 3s 1ms/step - loss: 0.0136\n",
            "Epoch 11/20\n",
            "2191/2191 [==============================] - 3s 1ms/step - loss: 0.0133\n",
            "Epoch 12/20\n",
            "2191/2191 [==============================] - 3s 1ms/step - loss: 0.0133\n",
            "Epoch 13/20\n",
            "2191/2191 [==============================] - 3s 1ms/step - loss: 0.0131\n",
            "Epoch 14/20\n",
            "2191/2191 [==============================] - 3s 1ms/step - loss: 0.0135\n",
            "Epoch 15/20\n",
            "2191/2191 [==============================] - 3s 1ms/step - loss: 0.0130\n",
            "Epoch 16/20\n",
            "2191/2191 [==============================] - 3s 1ms/step - loss: 0.0131\n",
            "Epoch 17/20\n",
            "2191/2191 [==============================] - 3s 1ms/step - loss: 0.0133\n",
            "Epoch 18/20\n",
            "2191/2191 [==============================] - 3s 1ms/step - loss: 0.0132\n",
            "Epoch 19/20\n",
            "2191/2191 [==============================] - 3s 1ms/step - loss: 0.0133\n",
            "Epoch 20/20\n",
            "2191/2191 [==============================] - 3s 1ms/step - loss: 0.0130\n"
          ],
          "name": "stdout"
        },
        {
          "output_type": "execute_result",
          "data": {
            "text/plain": [
              "<tensorflow.python.keras.callbacks.History at 0x7f77d5aa59b0>"
            ]
          },
          "metadata": {
            "tags": []
          },
          "execution_count": 52
        }
      ]
    },
    {
      "cell_type": "code",
      "metadata": {
        "id": "ZLWxLA_I18Cp",
        "colab_type": "code",
        "colab": {}
      },
      "source": [
        "#previsão CNN\n",
        "previsao_cnn = modelo_CNN.predict(X_teste)\n",
        "PRES_cnn = np.squeeze(scaler.inverse_transform(previsao_cnn))"
      ],
      "execution_count": 0,
      "outputs": []
    },
    {
      "cell_type": "code",
      "metadata": {
        "id": "GhLTtq7m2IJx",
        "colab_type": "code",
        "outputId": "fc48c826-9b90-4039-f1a5-ca32d9c65956",
        "colab": {
          "base_uri": "https://localhost:8080/",
          "height": 35
        }
      },
      "source": [
        "r2_cnn = r2_score(df_teste['PRES'].iloc[10:], PRES_cnn)\n",
        "print('Coeficiente de Determinação Para o Teste (CNN):', round(r2, 4))"
      ],
      "execution_count": 54,
      "outputs": [
        {
          "output_type": "stream",
          "text": [
            "Coeficiente de Determinação Para o Teste (CNN): 0.9928\n"
          ],
          "name": "stdout"
        }
      ]
    },
    {
      "cell_type": "code",
      "metadata": {
        "id": "IQpCnmHd2Ye8",
        "colab_type": "code",
        "outputId": "39896791-3970-4429-b506-3342176d7267",
        "colab": {
          "base_uri": "https://localhost:8080/",
          "height": 476
        }
      },
      "source": [
        "#plotando os valores reais x previstos\n",
        "plt.figure(figsize=(7,7))\n",
        "plt.plot(range(50), df_teste['PRES'].iloc[10:60], linestyle='-', marker='*', color='r')\n",
        "plt.plot(range(50), PRES_cnn[:50], linestyle='-', marker='.', color='b')\n",
        "plt.legend(['Real','Previsto'], loc=2)\n",
        "plt.title('Valor de Pressão Atmosferica Medido vs Valor de Pressão Atmosférica Previsto (CNN)')\n",
        "plt.ylabel('Pressão Atmosférica')\n",
        "plt.xlabel('Indice')"
      ],
      "execution_count": 55,
      "outputs": [
        {
          "output_type": "execute_result",
          "data": {
            "text/plain": [
              "Text(0.5, 0, 'Indice')"
            ]
          },
          "metadata": {
            "tags": []
          },
          "execution_count": 55
        },
        {
          "output_type": "display_data",
          "data": {
            "image/png": "[encoded data removed]",
            "text/plain": [
              "<Figure size 504x504 with 1 Axes>"
            ]
          },
          "metadata": {
            "tags": [],
            "needs_background": "light"
          }
        }
      ]
    }
  ]
}